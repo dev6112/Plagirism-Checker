{
 "cells": [
  {
   "cell_type": "code",
   "execution_count": 1,
   "id": "a1440c64",
   "metadata": {},
   "outputs": [
    {
     "name": "stdout",
     "output_type": "stream",
     "text": [
      "Jaccard Similarity Score: 0.0\n",
      "No plagiarism detected.\n"
     ]
    }
   ],
   "source": [
    "def preprocess_text(text):\n",
    "    text = text.lower()\n",
    "    words = text.split()\n",
    "    return set(words)\n",
    "def jaccard_similarity(set1, set2):\n",
    "    intersection = len(set1.intersection(set2))\n",
    "    union = len(set1) + len(set2) - intersection\n",
    "    return intersection / union\n",
    "def check_plagiarism(text1, text2):\n",
    "    set1 = preprocess_text(text1)\n",
    "    set2 = preprocess_text(text2)\n",
    "    similarity = jaccard_similarity(set1, set2)\n",
    "    return similarity\n",
    "if __name__ == \"__main__\":\n",
    "    document1 = \"WELL COME.\"\n",
    "    document2 = \"CREATE WONDERS\"\n",
    "    similarity_score = check_plagiarism(document1, document2)\n",
    "    print(f\"Jaccard Similarity Score: {similarity_score}\")\n",
    "    threshold = 0.5\n",
    "    if similarity_score >= threshold:\n",
    "        print(\"Plagiarism detected!\")\n",
    "    else:\n",
    "        print(\"No plagiarism detected.\")\n"
   ]
  },
  {
   "cell_type": "code",
   "execution_count": null,
   "id": "b7a834e4",
   "metadata": {},
   "outputs": [],
   "source": []
  }
 ],
 "metadata": {
  "kernelspec": {
   "display_name": "Python 3 (ipykernel)",
   "language": "python",
   "name": "python3"
  },
  "language_info": {
   "codemirror_mode": {
    "name": "ipython",
    "version": 3
   },
   "file_extension": ".py",
   "mimetype": "text/x-python",
   "name": "python",
   "nbconvert_exporter": "python",
   "pygments_lexer": "ipython3",
   "version": "3.11.3"
  }
 },
 "nbformat": 4,
 "nbformat_minor": 5
}
